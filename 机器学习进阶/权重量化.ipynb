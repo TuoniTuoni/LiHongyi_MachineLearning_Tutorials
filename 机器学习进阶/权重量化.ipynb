{
 "cells": [
  {
   "cell_type": "markdown",
   "metadata": {
    "collapsed": false
   },
   "source": [
    "# 项目3.4-神经网络压缩（权重量化）\n",
    "\n",
    "## 友情提示\n",
    "同学们可以前往课程作业区先行动手尝试 ！！！\n",
    "\n",
    "## 项目描述\n",
    "\n",
    "权重量化：减少模型权重的精度，降低模型的运算量和存储空间。        \n",
    "\n",
    "## 数据集介绍\n",
    "无\n",
    "\n",
    "## 项目要求\n",
    "\n",
    "权重量化: 用更好的方式来表现model中的参数，以此降低运算量/消耗容量。"
   ]
  },
  {
   "cell_type": "markdown",
   "metadata": {
    "collapsed": false
   },
   "source": [
    "## 数据准备"
   ]
  },
  {
   "cell_type": "markdown",
   "metadata": {
    "collapsed": false
   },
   "source": [
    "无"
   ]
  },
  {
   "cell_type": "markdown",
   "metadata": {
    "collapsed": false
   },
   "source": [
    "## 环境配置/安装\n",
    "\n",
    "无"
   ]
  },
  {
   "cell_type": "markdown",
   "metadata": {
    "collapsed": false
   },
   "source": [
    "## 简介\n",
    "\n",
    "\n",
    "Compression有很多种门派，在这裡我们会介绍上课出现过的其中四种，分别是:\n",
    "\n",
    "* 知识蒸馏 Knowledge Distillation\n",
    "* 网路剪枝 Network Pruning\n",
    "* 用少量参数来做CNN Architecture Design\n",
    "* 参数量化 Weight Quantization\n",
    "\n",
    "在这个notebook中我们会介绍非常简单的Weight Quantization，\n",
    "而我们有提供已经做完Knowledge Distillation的小model来做Quantization。\n",
    "\n",
    "* Model架构 / Architecute Design在同目录中的hw7_Architecture_Design.ipynb。\n",
    "* 已经train好的小model(“work/stu_net.pdparams”, 0.99M)\n",
    "  * 参数为 base=16, width_mult=1 (default)\n",
    "\n",
    "\n",
    "## 权重量化\n",
    "![](https://ai-studio-static-online.cdn.bcebos.com/03573270bf4e4bb0a913018e11c1fa366407d6408b5142a5be96e82beaadb481)\n",
    "\n",
    "\n",
    "我们这边会示范如何实作第一条: Using less bits to represent a value。\n",
    "\n",
    "## 好的Quantization很重要。\n",
    "这边提供一些TA的数据供各位参考。\n",
    "\n",
    "|bit|state_dict size|accuracy|\n",
    "|-|-|-|\n",
    "|32|1047430 Bytes|0.81315|\n",
    "|16|522958 Bytes|0.81347|\n",
    "|8|268472 Bytes|0.80791|\n",
    "|7|268472 Bytes|0.80791|\n",
    "\n",
    "\n",
    "## 运算消耗\n",
    "根据[paddle的官方手册](https://www.paddlepaddle.org.cn/documentation/docs/zh/2.0-rc/api/paddle/tensor/creation/Tensor_cn.html#tensor)，我们知道paddle.Tensor预设是32-bit，也就是佔了4byte的空间，而Tensor系列最低可以容忍的是16-bit。\n",
    "\n",
    "为了方便操作，我们之后会将state_dict转成numpy array做事。\n",
    "因此我们可以先看看numpy有什么样的type可以使用。\n",
    "![](https://i.imgur.com/3N7tiEc.png)\n",
    "而我们发现numpy最低有float16可以使用，因此我们可以直接靠转型将32-bit的tensor转换成16-bit的ndarray存起来。"
   ]
  },
  {
   "cell_type": "markdown",
   "metadata": {
    "collapsed": false
   },
   "source": [
    "# 导入权重\n",
    "\n",
    "下载我们已经train好的小model的state_dict进行测试。"
   ]
  },
  {
   "cell_type": "code",
   "execution_count": 1,
   "metadata": {
    "collapsed": false
   },
   "outputs": [
    {
     "name": "stdout",
     "output_type": "stream",
     "text": [
      "\n",
      "original cost: 1583801 bytes.\n"
     ]
    }
   ],
   "source": [
    "import os\n",
    "import paddle\n",
    "\n",
    "print(f\"\\noriginal cost: {os.stat('work/stu_net.pdparams').st_size} bytes.\")\n",
    "params = paddle.load('work/stu_net.pdparams')"
   ]
  },
  {
   "cell_type": "markdown",
   "metadata": {
    "collapsed": false
   },
   "source": [
    "# 32-bit 张量 -> 16-bit "
   ]
  },
  {
   "cell_type": "code",
   "execution_count": 2,
   "metadata": {
    "collapsed": false
   },
   "outputs": [
    {
     "name": "stdout",
     "output_type": "stream",
     "text": [
      "16-bit cost: 522254 bytes.\n"
     ]
    }
   ],
   "source": [
    "import numpy as np\n",
    "import pickle\n",
    "\n",
    "def encode16(params, fname):\n",
    "    '''将params压缩成16-bit后输出到fname。\n",
    "\n",
    "    Args:\n",
    "      params: model的state_dict。\n",
    "      fname: 压缩后输出的档名。\n",
    "    '''\n",
    "\n",
    "    custom_dict = {}\n",
    "    for (name, param) in params.items():\n",
    "        param = np.float64(param)\n",
    "        # 有些东西不属于ndarray，只是一个数字，这个时候我们就不用压缩。\n",
    "        if type(param) == np.ndarray:\n",
    "            custom_dict[name] = np.float16(param)\n",
    "        else:\n",
    "            custom_dict[name] = param\n",
    "\n",
    "    pickle.dump(custom_dict, open(fname, 'wb'))\n",
    "\n",
    "\n",
    "def decode16(fname):\n",
    "    '''从fname读取各个params，将其从16-bit还原回paddle.tensor后存进state_dict内。\n",
    "\n",
    "    Args:\n",
    "      fname: 压缩后的档名。\n",
    "    '''\n",
    "\n",
    "    params = pickle.load(open(fname, 'rb'))\n",
    "    custom_dict = {}\n",
    "    for (name, param) in params.items():\n",
    "        param = paddle.Tensor(param)\n",
    "        custom_dict[name] = param\n",
    "\n",
    "    return custom_dict\n",
    "\n",
    "\n",
    "encode16(params, '16_bit_model.pdparams')\n",
    "print(f\"16-bit cost: {os.stat('16_bit_model.pdparams').st_size} bytes.\")"
   ]
  },
  {
   "cell_type": "markdown",
   "metadata": {
    "collapsed": false
   },
   "source": [
    "# 32-bit 张量 -> 8-bit (可选的)\n",
    "\n",
    "这边提供转成8-bit的方法，仅供大家参考。\n",
    "因为没有8-bit的float，所以我们先对每个weight记录最小值和最大值，进行min-max正规化后乘上$2^8-1$在四舍五入，就可以用np.uint8存取了。\n",
    "\n",
    "$W' = round(\\frac{W - \\min(W)}{\\max(W) - \\min(W)} \\times (2^8 - 1)$)\n",
    "\n",
    "\n",
    "\n",
    "> 至于能不能转成更低的形式，例如4-bit呢? 当然可以，待你实作。"
   ]
  },
  {
   "cell_type": "code",
   "execution_count": 3,
   "metadata": {
    "collapsed": false
   },
   "outputs": [
    {
     "name": "stdout",
     "output_type": "stream",
     "text": [
      "8-bit cost: 267855 bytes.\n"
     ]
    }
   ],
   "source": [
    "def encode8(params, fname):\n",
    "    custom_dict = {}\n",
    "    for (name, param) in params.items():\n",
    "        param = np.float64(param)\n",
    "        if type(param) == np.ndarray:\n",
    "            min_val = np.min(param)\n",
    "            max_val = np.max(param)\n",
    "            param = np.round((param - min_val) / (max_val - min_val) * 255)\n",
    "            param = np.uint8(param)\n",
    "            custom_dict[name] = (min_val, max_val, param)\n",
    "        else:\n",
    "            custom_dict[name] = param\n",
    "\n",
    "    pickle.dump(custom_dict, open(fname, 'wb'))\n",
    "\n",
    "\n",
    "def decode8(fname):\n",
    "    params = pickle.load(open(fname, 'rb'))\n",
    "    custom_dict = {}\n",
    "    for (name, param) in params.items():\n",
    "        if type(param) == tuple:\n",
    "            min_val, max_val, param = param\n",
    "            param = np.float64(param)\n",
    "            param = (param / 255 * (max_val - min_val)) + min_val\n",
    "            param = paddle.Tensor(param)\n",
    "        else:\n",
    "            param = paddle.Tensor(param)\n",
    "\n",
    "        custom_dict[name] = param\n",
    "\n",
    "    return custom_dict\n",
    "\n",
    "encode8(params, '8_bit_model.pdparams')\n",
    "print(f\"8-bit cost: {os.stat('8_bit_model.pdparams').st_size} bytes.\")"
   ]
  }
 ],
 "metadata": {
  "kernelspec": {
   "display_name": "PaddlePaddle 2.0.0b0 (Python 3.5)",
   "language": "python",
   "name": "py35-paddle1.2.0"
  },
  "language_info": {
   "codemirror_mode": {
    "name": "ipython",
    "version": 3
   },
   "file_extension": ".py",
   "mimetype": "text/x-python",
   "name": "python",
   "nbconvert_exporter": "python",
   "pygments_lexer": "ipython3",
   "version": "3.7.4"
  }
 },
 "nbformat": 4,
 "nbformat_minor": 1
}
