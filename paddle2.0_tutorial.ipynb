{
 "cells": [
  {
   "cell_type": "markdown",
   "metadata": {
    "collapsed": false
   },
   "source": [
    "# PaddlePaddle教学\n",
    "\n",
    "## 项目描述\n",
    "此教程旨在介绍PaddlePaddle(一个易用、高效、灵活、可扩展的深度学习框架)，根据PaddlePaddle 2.0 rc官方手册编写，介绍了PaddlePaddle中比较常用的一些API以及其基本用法。\n",
    "\n",
    "## 数据集介绍\n",
    "无\n",
    "\n",
    "## 项目要求\n",
    "* 学会使用自动微分（一个强大的实用工具）\n",
    "* 使用PaddlePaddle实现深度学习中的常用功能\n",
    "* 使用paddle.io.Dataset处理数据\n",
    "* 了解PaddlePaddle中的自动混合精度训练"
   ]
  },
  {
   "cell_type": "markdown",
   "metadata": {
    "collapsed": false
   },
   "source": [
    "## 数据准备\n",
    "无"
   ]
  },
  {
   "cell_type": "markdown",
   "metadata": {
    "collapsed": false
   },
   "source": [
    "## 环境配置/安装\n",
    "\n",
    "无"
   ]
  },
  {
   "cell_type": "markdown",
   "metadata": {
    "collapsed": false
   },
   "source": [
    "# PaddlePaddle 介绍\n",
    "\n",
    "##### 此教程根据 [PaddlePaddle 2.0 rc官方手册](https://www.paddlepaddle.org.cn/documentation/docs/zh/2.0-rc/guides/index_cn.html)编写。"
   ]
  },
  {
   "cell_type": "markdown",
   "metadata": {
    "collapsed": false
   },
   "source": [
    "此教程旨在介绍PaddlePaddle(一个易用、高效、灵活、可扩展的深度学习框架)        \n",
    "本教程只介绍了paddle中比较常用的一些API以及其基本用法，并不全面，如有任何问题请参考[PaddlePaddle 2.0 rc官方手册](https://www.paddlepaddle.org.cn/documentation/docs/zh/2.0-rc/guides/index_cn.html)，也可以[百度一下](https://www.baidu.com/)       \n",
    "        \n",
    "你将收获以下知识：\n",
    "- 自动微分是一个强大的实用工具\n",
    "- 使用PaddlePaddle实现深度学习中的常用函数\n",
    "- 使用paddle.io.Dataset处理数据\n",
    "- PaddlePaddle中的自动混合精度训练"
   ]
  },
  {
   "cell_type": "code",
   "execution_count": 1,
   "metadata": {
    "collapsed": false
   },
   "outputs": [
    {
     "name": "stderr",
     "output_type": "stream",
     "text": [
      "/opt/conda/envs/python35-paddle120-env/lib/python3.7/site-packages/paddle/fluid/layers/utils.py:26: DeprecationWarning: `np.int` is a deprecated alias for the builtin `int`. To silence this warning, use `int` by itself. Doing this will not modify any behavior and is safe. When replacing `np.int`, you may wish to use e.g. `np.int64` or `np.int32` to specify the precision. If you wish to review your current use, check the release note link for additional information.\n",
      "Deprecated in NumPy 1.20; for more details and guidance: https://numpy.org/devdocs/release/1.20.0-notes.html#deprecations\n",
      "  def convert_to_list(value, n, name, dtype=np.int):\n"
     ]
    },
    {
     "name": "stdout",
     "output_type": "stream",
     "text": [
      "Tensor(shape=[10], dtype=float32, place=CUDAPlace(0), stop_gradient=True,\n",
      "       [0.01002516, 0.92447233, 0.20326197, 0.65862960, 0.70824307, 0.60163826, 0.67921758, 0.51174110, 0.25614980, 0.60655338])\n",
      "Tensor(shape=[10], dtype=float32, place=CUDAPlace(0), stop_gradient=True,\n",
      "       [0.01002516, 0.92447233, 0.20326197, 0.65862960, 0.70824307, 0.60163826, 0.67921758, 0.51174110, 0.25614980, 0.60655338])\n",
      "[ True  True  True  True  True  True  True  True  True  True]\n"
     ]
    }
   ],
   "source": [
    "import paddle\n",
    "import paddle.fluid as fluid\n",
    "from paddle import seed\n",
    "# 使用动态图模式\n",
    "paddle.disable_static()\n",
    "seed(446)\n",
    "x = fluid.layers.uniform_random([10], dtype=\"float32\", min=0.0, max=1.0)\n",
    "print(x)\n",
    "paddle.seed(446)\n",
    "x3 = fluid.layers.uniform_random(\n",
    "    [10], dtype=\"float32\", min=0.0, max=1.0)\n",
    "print(x3)\n",
    "print(x.numpy() == x3.numpy())"
   ]
  },
  {
   "cell_type": "markdown",
   "metadata": {
    "collapsed": false
   },
   "source": [
    "## Paddle中张量以及张量和numpy数组之间的转换\n",
    "\n",
    "到目前为止，我们已经使用了不少和numpy数组相关的操作。 作为PaddlePaddle中数据处理的基本元素，张量`tensor`和numpy数组中的`ndarray`非常相似。"
   ]
  },
  {
   "cell_type": "code",
   "execution_count": 2,
   "metadata": {
    "collapsed": false
   },
   "outputs": [
    {
     "name": "stdout",
     "output_type": "stream",
     "text": [
      "x_numpy, x_paddle\n",
      "[[2.5 2.5]\n",
      " [2.5 2.5]\n",
      " [2.5 2.5]] Tensor(shape=[3, 2], dtype=float64, place=CUDAPlace(0), stop_gradient=True,\n",
      "       [[2.50000000, 2.50000000],\n",
      "        [2.50000000, 2.50000000],\n",
      "        [2.50000000, 2.50000000]])\n",
      "\n",
      "to and from numpy and paddle\n",
      "Tensor(shape=[3, 2], dtype=float32, place=CUDAPlace(0), stop_gradient=True,\n",
      "       [[2.50000000, 2.50000000],\n",
      "        [2.50000000, 2.50000000],\n",
      "        [2.50000000, 2.50000000]]) <bound method PyCapsule.numpy of Tensor(shape=[3, 2], dtype=float32, place=CUDAPlace(0), stop_gradient=True,\n",
      "       [[2.50000000, 2.50000000],\n",
      "        [2.50000000, 2.50000000],\n",
      "        [2.50000000, 2.50000000]])>\n",
      "\n",
      "x+y\n",
      "[[ 5.5  6.5]\n",
      " [ 7.5  8.5]\n",
      " [ 9.5 10.5]]\n",
      "Tensor(shape=[3, 2], dtype=float32, place=CUDAPlace(0), stop_gradient=True,\n",
      "       [[5.50000000 , 6.50000000 ],\n",
      "        [7.50000000 , 8.50000000 ],\n",
      "        [9.50000000 , 10.50000000]])\n",
      "\n",
      "norm\n",
      "6.1237245 Tensor(shape=[1], dtype=float32, place=CUDAPlace(0), stop_gradient=True,\n",
      "       [6.12372446])\n",
      "\n",
      "mean along the 0th dimension\n",
      "[2. 3.] Tensor(shape=[2], dtype=float32, place=CUDAPlace(0), stop_gradient=True,\n",
      "       [2., 3.])\n"
     ]
    },
    {
     "name": "stderr",
     "output_type": "stream",
     "text": [
      "/opt/conda/envs/python35-paddle120-env/lib/python3.7/site-packages/paddle/tensor/creation.py:143: DeprecationWarning: `np.object` is a deprecated alias for the builtin `object`. To silence this warning, use `object` by itself. Doing this will not modify any behavior and is safe. \n",
      "Deprecated in NumPy 1.20; for more details and guidance: https://numpy.org/devdocs/release/1.20.0-notes.html#deprecations\n",
      "  if data.dtype == np.object:\n",
      "/opt/conda/envs/python35-paddle120-env/lib/python3.7/site-packages/paddle/fluid/dygraph/math_op_patch.py:238: UserWarning: The dtype of left and right variables are not the same, left dtype is VarType.FP32, but right dtype is VarType.INT64, the right dtype will convert to VarType.FP32\n",
      "  format(lhs_dtype, rhs_dtype, lhs_dtype))\n"
     ]
    }
   ],
   "source": [
    "import paddle.fluid as fluid\n",
    "import numpy as np\n",
    "paddle.disable_static()\n",
    "\n",
    "# 使用创建numpy数组相同的方式来创建Tensor\n",
    "x_numpy = np.array([[2.5, 2.5], [2.5, 2.5], [2.5, 2.5]])\n",
    "x_paddle = paddle.to_tensor(x_numpy)\n",
    "# [[2.5, 2.5], [2.5, 2.5], [2.5, 2.5]]\n",
    "data = fluid.layers.fill_constant(shape=[3, 2], value=2.5, dtype='float64')\n",
    "x_paddle = fluid.layers.create_tensor(dtype='float64')\n",
    "# x_paddle = [2.50000000, 2.50000000, 2.50000000, 2.50000000, 2.50000000, 2.50000000]\n",
    "fluid.layers.assign(data, x_paddle)\n",
    "print('x_numpy, x_paddle')\n",
    "print(x_numpy, x_paddle)\n",
    "print()\n",
    "\n",
    "# 根据numpy数组创建Paddle Tensor\n",
    "print('to and from numpy and paddle')\n",
    "x_numpy = np.array([[2.5, 2.5], [2.5, 2.5], [2.5, 2.5]], dtype=np.float32)\n",
    "# x_paddle = [2.50000000, 2.50000000, 2.50000000, 2.50000000, 2.50000000, 2.50000000]\n",
    "# input size not support float64 \n",
    "x_paddle = fluid.layers.assign(x_numpy)\n",
    "print(x_paddle, x_paddle.numpy)\n",
    "print()\n",
    "\n",
    "# 使用 +-*/ 操作Paddle Tensors\n",
    "y_numpy = np.array([[3,4], [5, 6], [7, 8]])\n",
    "y_paddle = paddle.to_tensor([[3,4], [5, 6], [7, 8]])\n",
    "print(\"x+y\")\n",
    "print(x_numpy + y_numpy)\n",
    "print(x_paddle + y_paddle)\n",
    "print()\n",
    "\n",
    "# 很多numpy中函数使用方式同样适用于Paddle\n",
    "print(\"norm\")\n",
    "print(np.linalg.norm(x_numpy), paddle.norm(x_paddle))\n",
    "print()\n",
    "\n",
    "# 计算指定维度上的数据均值\n",
    "print(\"mean along the 0th dimension\")\n",
    "x_numpy = np.array([[1,2],[3,4.]])\n",
    "x_paddle = paddle.to_tensor([[1,2],[3,4.]])\n",
    "print(np.mean(x_numpy, axis=0), paddle.mean(x_paddle, axis=0))\n"
   ]
  },
  {
   "cell_type": "markdown",
   "metadata": {
    "collapsed": false
   },
   "source": [
    "### `paddle.reshape()`\n",
    "我们可以使用`paddle.reshape()`函数来改变Tensors的维度和排列，该函数的使用方法类似`numpy.reshape()`函数。\n",
    "\n",
    "\n",
    "此函数还能根据指定的其他维度自动计算剩下那一个维度的值（参数中可以使用-1来替代），这在操作batch但是batch维度不明确的时候非常实用。"
   ]
  },
  {
   "cell_type": "code",
   "execution_count": 3,
   "metadata": {
    "collapsed": false
   },
   "outputs": [
    {
     "name": "stdout",
     "output_type": "stream",
     "text": [
      "[10000, 3, 28, 28]\n",
      "[10000, 3, 784]\n",
      "[10000, 3, 784]\n"
     ]
    }
   ],
   "source": [
    "# \"MNIST\"\n",
    "N, C, W, H = 10000, 3, 28, 28\n",
    "X = paddle.randn((N, C, W, H))\n",
    "\n",
    "print(X.shape)\n",
    "print(paddle.reshape(X, shape=(N, C, 784)).shape)\n",
    "# 根据第二、三个维度自动计算第一个维度的值\n",
    "print(paddle.reshape(X, shape=(-1, C, 784)).shape)"
   ]
  },
  {
   "cell_type": "markdown",
   "metadata": {
    "collapsed": false
   },
   "source": [
    "### `广播语义`\n",
    "符合下面规则的两个tensor是“可广播的”：\n",
    "\n",
    "每个tensor至少含有一个维度。\n",
    "\n",
    "当迭代维度大小时，从最后一维开始，该维度的大小相等或者至少有一个等于1又或者其中一个tensor该维度不存在。"
   ]
  },
  {
   "cell_type": "code",
   "execution_count": 4,
   "metadata": {
    "collapsed": false
   },
   "outputs": [
    {
     "name": "stdout",
     "output_type": "stream",
     "text": [
      "[5, 3, 4, 1]\n"
     ]
    },
    {
     "name": "stderr",
     "output_type": "stream",
     "text": [
      "/opt/conda/envs/python35-paddle120-env/lib/python3.7/site-packages/paddle/fluid/data_feeder.py:56: DeprecationWarning: `np.bool` is a deprecated alias for the builtin `bool`. To silence this warning, use `bool` by itself. Doing this will not modify any behavior and is safe. If you specifically wanted the numpy scalar type, use `np.bool_` here.\n",
      "Deprecated in NumPy 1.20; for more details and guidance: https://numpy.org/devdocs/release/1.20.0-notes.html#deprecations\n",
      "  np.bool, np.float16, np.float32, np.float64, np.int8, np.int16,\n"
     ]
    }
   ],
   "source": [
    "# Paddle operations support NumPy Broadcasting Semantics.\n",
    "x=paddle.empty((5,1,4,1), dtype=np.int64)\n",
    "y=paddle.empty((  3,1,1), dtype=np.int64)\n",
    "print((x+y).shape)"
   ]
  },
  {
   "cell_type": "markdown",
   "metadata": {
    "collapsed": false
   },
   "source": [
    "## 计算图\n",
    "\n",
    "Paddle中`tensor`的特殊之处在于它会在后台隐式的建一个计算图，计算图是一种将数学表达式计算过程用图表达出来的方法，算法会按照算术函数的计算顺序将计算图中所有变量的值有效计算出来。\n",
    "\n",
    "\n",
    "比如这个表达式 $e=(a+b)*(b+1)$ 当 $a=2, b=1$时。 在Paddle中我们能画出评估计算图如下图所示\""
   ]
  },
  {
   "cell_type": "markdown",
   "metadata": {
    "collapsed": false
   },
   "source": [
    "![](https://ai-studio-static-online.cdn.bcebos.com/3d9f4288031b40219090095c10b3821cedb8fcd8fa714cc5b657eadea1e7b37a)"
   ]
  },
  {
   "cell_type": "code",
   "execution_count": 5,
   "metadata": {
    "collapsed": false
   },
   "outputs": [
    {
     "name": "stdout",
     "output_type": "stream",
     "text": [
      "c Tensor(shape=[1], dtype=float32, place=CUDAPlace(0), stop_gradient=False,\n",
      "       [3.])\n",
      "d Tensor(shape=[1], dtype=float32, place=CUDAPlace(0), stop_gradient=False,\n",
      "       [2.])\n",
      "e Tensor(shape=[1], dtype=float32, place=CUDAPlace(0), stop_gradient=False,\n",
      "       [6.])\n"
     ]
    }
   ],
   "source": [
    " # we set requires_grad=True to let Paddle know to keep the graph\n",
    "a = paddle.to_tensor(2.0, stop_gradient=False)\n",
    "b = paddle.to_tensor(1.0, stop_gradient=False)\n",
    "c = a + b\n",
    "d = b + 1\n",
    "e = c * d\n",
    "print('c', c)\n",
    "print('d', d)\n",
    "print('e', e)"
   ]
  },
  {
   "cell_type": "markdown",
   "metadata": {
    "collapsed": false
   },
   "source": [
    "## CUDA 语义\n",
    "\n",
    "在Paddle中我们可以很简单的在指定的GPU或者CPU上创建tensor。      \n",
    "在Paddle中我们可以很简单的设置数据操作的全局运行设备。"
   ]
  },
  {
   "cell_type": "code",
   "execution_count": 6,
   "metadata": {
    "collapsed": false
   },
   "outputs": [
    {
     "name": "stdout",
     "output_type": "stream",
     "text": [
      "Tensor(shape=[10], dtype=float32, place=CPUPlace, stop_gradient=True,\n",
      "       [0.47338870, 0.43188271, 0.36742651, 0.46920347, 0.50838202, 0.65226251, 0.19124837, 0.46995333, 0.88267577, 0.35630536])\n",
      "Tensor(shape=[10], dtype=float32, place=CUDAPlace(0), stop_gradient=True,\n",
      "       [0.94677740, 0.86376542, 0.73485303, 0.93840694, 1.01676404, 1.30452502, 0.38249674, 0.93990666, 1.76535153, 0.71261072])\n",
      "Tensor(shape=[10], dtype=float32, place=CPUPlace, stop_gradient=True,\n",
      "       [0.47338870, 0.43188271, 0.36742651, 0.46920347, 0.50838202, 0.65226251, 0.19124837, 0.46995333, 0.88267577, 0.35630536])\n",
      "Tensor(shape=[10], dtype=float32, place=CUDAPlace(0), stop_gradient=True,\n",
      "       [0.47338870, 0.43188271, 0.36742651, 0.46920347, 0.50838202, 0.65226251, 0.19124837, 0.46995333, 0.88267577, 0.35630536])\n"
     ]
    }
   ],
   "source": [
    "# use cpu\n",
    "cpu = paddle.set_device(\"cpu\")\n",
    "paddle.disable_static(cpu)\n",
    "x = paddle.rand((10,))\n",
    "print(x)\n",
    "# use gpu\n",
    "gpu = paddle.set_device(\"gpu\")\n",
    "paddle.disable_static(gpu)\n",
    "y = x*2\n",
    "print(y)\n",
    "\n",
    "# create tensor on cpu\n",
    "cpu_tensor = paddle.to_tensor(x, place=paddle.CPUPlace())\n",
    "print(cpu_tensor)\n",
    "# create tensor on gpu\n",
    "gpu_tensor = paddle.to_tensor(x, place=paddle.CUDAPlace(0))\n",
    "print(gpu_tensor)"
   ]
  },
  {
   "cell_type": "markdown",
   "metadata": {
    "collapsed": false
   },
   "source": [
    "## Paddle 是一个会自动计算梯度的框架\n",
    "        \n",
    "我们知道Paddle无时无刻不在使用图，接下来我们展示一些Paddle自动计算梯度的使用案例。\n",
    "\n",
    "函数 $f(x) = (x-2)^2$.\n",
    "\n",
    "Q: 如何计算 $\\frac{d}{dx} f(x)$ 以及如何计算 $f'(1)$.\n",
    "\n",
    "我们可以先计算叶子变量(`y`)，然后调用`backward()`函数，一次性计算出`y`的所有所有梯度。"
   ]
  },
  {
   "cell_type": "code",
   "execution_count": 7,
   "metadata": {
    "collapsed": false
   },
   "outputs": [
    {
     "name": "stdout",
     "output_type": "stream",
     "text": [
      "Analytical f'(x): Tensor(shape=[1], dtype=float32, place=CUDAPlace(0), stop_gradient=False,\n",
      "       [-2.])\n",
      "Paddle's f'(x): [-2.]\n"
     ]
    }
   ],
   "source": [
    "def f(x):\n",
    "    return (x-2)**2\n",
    "\n",
    "def fp(x):\n",
    "    return 2*(x-2)\n",
    "\n",
    "x = paddle.to_tensor([1.0], stop_gradient=False)\n",
    "\n",
    "y = f(x)\n",
    "y.backward()\n",
    "\n",
    "print('Analytical f\\'(x):', fp(x))\n",
    "print('Paddle\\'s f\\'(x):', x.grad)"
   ]
  },
  {
   "cell_type": "markdown",
   "metadata": {
    "collapsed": false
   },
   "source": [
    "该方法也能计算函数的梯度。\n",
    "\n",
    "例如 $w = [w_1, w_2]^T$\n",
    "\n",
    "函数 $g(w) = 2w_1w_2 + w_2\\cos(w_1)$\n",
    "\n",
    "Q: 计算 $\\nabla_w g(w)$ 并验证 $\\nabla_w g([\\pi,1]) = [2, \\pi - 1]^T$"
   ]
  },
  {
   "cell_type": "code",
   "execution_count": 8,
   "metadata": {
    "collapsed": false
   },
   "outputs": [
    {
     "name": "stdout",
     "output_type": "stream",
     "text": [
      "Analytical grad g(w) [Tensor(shape=[1], dtype=float32, place=CUDAPlace(0), stop_gradient=False,\n",
      "       [2.]), Tensor(shape=[1], dtype=float32, place=CUDAPlace(0), stop_gradient=False,\n",
      "       [5.28318548])]\n",
      "Paddle's grad g(w) [2.        5.2831855]\n"
     ]
    }
   ],
   "source": [
    "import paddle\n",
    "import numpy as np\n",
    "\n",
    "def g(w):\n",
    "    return 2*w[0]*w[1] + w[1]*paddle.fluid.layers.cos(w[0])\n",
    "\n",
    "def grad_g(w):\n",
    "    return [2*w[1] - w[1]*paddle.fluid.layers.sin(w[0]), 2*w[0] + paddle.fluid.layers.cos(w[0])]\n",
    "\n",
    "w = paddle.to_tensor([np.pi, 1], stop_gradient=False)\n",
    "\n",
    "z = g(w)\n",
    "z.backward()\n",
    "\n",
    "print('Analytical grad g(w)', grad_g(w))\n",
    "print('Paddle\\'s grad g(w)', w.grad)"
   ]
  },
  {
   "cell_type": "markdown",
   "metadata": {
    "collapsed": false
   },
   "source": [
    "## 使用梯度\n",
    "我们得到梯度之后，就可以使用我们最喜欢的优化算法：梯度下降算法了！\n",
    "\n",
    "函数 $f$ （由上面定义并计算）.\n",
    "\n",
    "Q: 如何计算 $x$ 让 $f$最小?\""
   ]
  },
  {
   "cell_type": "markdown",
   "metadata": {
    "collapsed": false
   },
   "source": [
    "# 线性回归\n",
    "\n",
    "接下来，我们构造一些数据，并降低损失函数在这些数据上的计算值。\n",
    "\n",
    "我们实现梯度下降方法来解决线性回归任务。"
   ]
  },
  {
   "cell_type": "code",
   "execution_count": 9,
   "metadata": {
    "collapsed": false
   },
   "outputs": [
    {
     "name": "stdout",
     "output_type": "stream",
     "text": [
      "X shape [50, 2]\n",
      "y shape [50, 1]\n",
      "w shape [2, 1]\n"
     ]
    }
   ],
   "source": [
    "import paddle.fluid as fluid\n",
    "paddle.disable_static()\n",
    "\n",
    "# make a simple linear dataset with some noise\n",
    "\n",
    "d = 2\n",
    "n = 50\n",
    "X = paddle.randn((n,d))\n",
    "true_w = paddle.to_tensor([[-1.0], [2.0]])\n",
    "y = fluid.layers.matmul(x=X, y=true_w) + paddle.randn((n,1)) * 0.1\n",
    "print('X shape', X.shape)\n",
    "print('y shape', y.shape)\n",
    "print('w shape', true_w.shape)"
   ]
  },
  {
   "cell_type": "markdown",
   "metadata": {
    "collapsed": false
   },
   "source": [
    "### 注意数据维度\n",
    "\n",
    "Paddle有很多处理batch数据的操作，按照约定俗成的规则，batch数据的维度是$(N, d)$，其中$N$是batch的大小。"
   ]
  },
  {
   "cell_type": "markdown",
   "metadata": {
    "collapsed": false
   },
   "source": [
    "### 正确性检查\n",
    "为了验证Paddle中梯度计算结果的正确性，我们可以调用梯度计算来计算RSS的梯度:\n",
    "\n",
    "$$\\nabla_w \\mathcal{L}_{RSS}(w; X) = \\nabla_w\\frac{1}{n} ||y - Xw||_2^2 = -\\frac{2}{n}X^T(y-Xw)$$"
   ]
  },
  {
   "cell_type": "markdown",
   "metadata": {
    "collapsed": false
   },
   "source": [
    "Padddle梯度计算正确性验证完毕之后，接下来我们介绍如何使用梯度！\n",
    "\n",
    "## 使用自动计算导数的GD来训练线性回归模型\n",
    "\n",
    "我们接下来使用梯度来运行梯度下降算法\n",
    "\n",
    "\n",
    "注意：这个例子是为了说明Paddle和我们之前所常用的一些使用方法之间的联系，在接下来的例子中，我们会看到如何使用Paddle所特有的方式来解决问题。"
   ]
  },
  {
   "cell_type": "markdown",
   "metadata": {
    "collapsed": false
   },
   "source": [
    "## paddle.nn.Module\n",
    "\n",
    "`Module`是Paddle处理tensor操作的一种方式。Modules是`paddle.nn.Module`类的子类，它的所有模块都是可调用的且能被组合成复杂函数。\n",
    "\n",
    "[`paddle.nn` docs](https://www.paddlepaddle.org.cn/documentation/docs/zh/2.0-beta/api/index_cn.html)\n",
    "\n",
    "注意：Modules中大部分的功能都能通过`paddle.nn.functional`中的函数来访问， 如何通过`paddle.nn.functional`中的函数来访问，需要自己创建和管理权重tensors。\n",
    "\n",
    "[`paddle.nn.functional` docs](https://www.paddlepaddle.org.cn/documentation/docs/zh/2.0-beta/api/paddle/nn/layer/pooling/AdaptiveAvgPool1d_cn.html)."
   ]
  },
  {
   "cell_type": "markdown",
   "metadata": {
    "collapsed": false
   },
   "source": [
    "### 线性模型\n",
    "modules的基本组成部分是带有偏置的可进行线性变换的线性模型。线性模型的输入参数为输入数据的维度和输出数据的维度，并生成线性变换权重。\n",
    "\n",
    "\n",
    "和我们手动初始化$w$不同的是，线性模型能自动随机初始化权重。在最小化凸损失函数过程中（比如：训练神经网络），初始化非常重要且能影响模型结果。如果训练和我们预期的不一致，手动初始化权重改变默认的初始化权重是我们的解决方案之一。Paddle在`paddle.nn.initializer`模块中实现了一些常见的通用初始化函数。\n",
    "\n",
    "[`paddle.nn.initializer` docs](https://www.paddlepaddle.org.cn/documentation/docs/zh/2.0-rc/api/paddle/fluid/initializer/Bilinear_cn.html)"
   ]
  },
  {
   "cell_type": "code",
   "execution_count": 10,
   "metadata": {
    "collapsed": false
   },
   "outputs": [
    {
     "name": "stdout",
     "output_type": "stream",
     "text": [
      "example_tensor [2, 3]\n",
      "transormed [2, 4]\n",
      "We can see that the weights exist in the background\n",
      "\n",
      "W: Parameter containing:\n",
      "Tensor(shape=[3, 4], dtype=float32, place=CUDAPlace(0), stop_gradient=False,\n",
      "       [[ 0.42431274, -0.84513336, -0.09373553,  0.70188046],\n",
      "        [-0.83907843, -0.37568173,  0.43144980, -0.73579890],\n",
      "        [ 0.41509503,  0.45389998, -0.25071356,  0.12635039]])\n",
      "b: Parameter containing:\n",
      "Tensor(shape=[4], dtype=float32, place=CUDAPlace(0), stop_gradient=False,\n",
      "       [0., 0., 0., 0.])\n"
     ]
    }
   ],
   "source": [
    "import paddle\n",
    "import numpy as np\n",
    "import paddle.fluid as fluid\n",
    "from paddle.fluid.dygraph import Linear\n",
    "from paddle.fluid.dygraph.base import to_variable\n",
    "paddle.disable_static()\n",
    "\n",
    "d_in = 3\n",
    "d_out = 4\n",
    "linear_module = Linear(d_in, d_out)\n",
    "example_tensor = paddle.to_tensor([[1,2,3], [4,5,6]], dtype=np.float32)\n",
    "print('example_tensor', example_tensor.shape)\n",
    "# applys a linear transformation to the data\n",
    "transformed = linear_module(example_tensor)\n",
    "print('transormed', transformed.shape)\n",
    "print('We can see that the weights exist in the background\\n')\n",
    "print('W:', linear_module.weight)\n",
    "print('b:', linear_module.bias)"
   ]
  },
  {
   "cell_type": "markdown",
   "metadata": {
    "collapsed": false
   },
   "source": [
    "### 激活函数\n",
    "\n",
    "Paddle实现了包括但不限于 `ReLU`, `Tanh`, and `Sigmoid`的一些激活函数。这些函数都是一些独立的modules，使用的时候都需要先实例化。"
   ]
  },
  {
   "cell_type": "code",
   "execution_count": 11,
   "metadata": {
    "collapsed": false
   },
   "outputs": [
    {
     "name": "stdout",
     "output_type": "stream",
     "text": [
      "example_tensor Tensor(shape=[3], dtype=float32, place=CUDAPlace(0), stop_gradient=True,\n",
      "       [-1.,  1.,  0.])\n",
      "activated Tensor(shape=[3], dtype=float32, place=CUDAPlace(0), stop_gradient=True,\n",
      "       [0., 1., 0.])\n"
     ]
    }
   ],
   "source": [
    "import paddle\n",
    "# we instantiate an instance of the ReLU module\n",
    "activation_fn = paddle.nn.ReLU() \n",
    "example_tensor = paddle.to_tensor([-1.0, 1.0, 0.0])\n",
    "activated = activation_fn(example_tensor)\n",
    "print('example_tensor', example_tensor)\n",
    "print('activated', activated)"
   ]
  },
  {
   "cell_type": "markdown",
   "metadata": {
    "collapsed": false
   },
   "source": [
    "### 顺序容器\n",
    "\n",
    "很多时候，我们需要很多Modules组合在一起计算，`paddle.nn.Sequential`模块给我们组合这些modules实现了一个简单易用的接口。"
   ]
  },
  {
   "cell_type": "code",
   "execution_count": 12,
   "metadata": {
    "collapsed": false
   },
   "outputs": [
    {
     "name": "stdout",
     "output_type": "stream",
     "text": [
      "transformed [2, 1]\n"
     ]
    }
   ],
   "source": [
    "import paddle\n",
    "import paddle.nn as nn\n",
    "paddle.disable_static()\n",
    "\n",
    "d_in = 3\n",
    "d_hidden = 4\n",
    "d_out = 1\n",
    "model = nn.Sequential(\n",
    "                        paddle.nn.Linear(d_in, d_hidden),\n",
    "                        paddle.nn.Tanh(),\n",
    "                        paddle.nn.Linear(d_hidden, d_out),\n",
    "                        paddle.nn.Sigmoid()\n",
    "                    )\n",
    "\n",
    "example_tensor = paddle.to_tensor([[1.,2,3],[4,5,6]])\n",
    "transformed = model(example_tensor)\n",
    "print('transformed', transformed.shape)"
   ]
  },
  {
   "cell_type": "markdown",
   "metadata": {
    "collapsed": false
   },
   "source": [
    "注意: 我们可以通过`parameters()`方法来访问`nn.Module`的所有的参数。\n"
   ]
  },
  {
   "cell_type": "code",
   "execution_count": 13,
   "metadata": {
    "collapsed": false
   },
   "outputs": [
    {
     "name": "stdout",
     "output_type": "stream",
     "text": [
      "Parameter containing:\n",
      "Tensor(shape=[3, 4], dtype=float32, place=CUDAPlace(0), stop_gradient=False,\n",
      "       [[-0.24470876, -0.72326243,  0.07521644, -0.29203761],\n",
      "        [-0.40923607,  0.91344702, -0.10443936,  0.62519979],\n",
      "        [-0.86522645,  0.25138199,  0.66073710, -0.06111625]])\n",
      "Parameter containing:\n",
      "Tensor(shape=[4], dtype=float32, place=CUDAPlace(0), stop_gradient=False,\n",
      "       [0., 0., 0., 0.])\n",
      "Parameter containing:\n",
      "Tensor(shape=[4, 1], dtype=float32, place=CUDAPlace(0), stop_gradient=False,\n",
      "       [[-0.91077131],\n",
      "        [ 0.75315511],\n",
      "        [-0.08332373],\n",
      "        [ 0.35569808]])\n",
      "Parameter containing:\n",
      "Tensor(shape=[1], dtype=float32, place=CUDAPlace(0), stop_gradient=False,\n",
      "       [0.])\n"
     ]
    }
   ],
   "source": [
    "params = model.parameters()\n",
    "\n",
    "for param in params:\n",
    "    print(param)"
   ]
  },
  {
   "cell_type": "markdown",
   "metadata": {
    "collapsed": false
   },
   "source": [
    "### 损失函数\n",
    "\n",
    "Paddle实现了包括`MSELoss` 和 `CrossEntropyLoss`在内的很多常见的损失函数。"
   ]
  },
  {
   "cell_type": "markdown",
   "metadata": {
    "collapsed": false
   },
   "source": [
    "## paddle.optimizer\n",
    "Paddle在`paddle.optimizer`模块中实现了一些基于梯度的优化函数，包括梯度下降等常见的优化方法。在最小化网络损失值的过程中，需要先获取模型参数和学习率。\n",
    "\n",
    "优化函数不会计算梯度，我们需要调用`backward()`来计算梯度。我们还需要在调用`backward()`函数之前调用`optim.clear_grad()`，原因是Paddle是默认梯度累加而不是梯度更新。\n",
    "     \n",
    "[`paddle.optimizer` docs](https://www.paddlepaddle.org.cn/documentation/docs/zh/2.0-rc/api/paddle/optimizer/Optimizer_cn.html#optimizer)"
   ]
  },
  {
   "cell_type": "code",
   "execution_count": 14,
   "metadata": {
    "collapsed": false
   },
   "outputs": [
    {
     "name": "stdout",
     "output_type": "stream",
     "text": [
      "model params before: Parameter containing:\n",
      "Tensor(shape=[1, 1], dtype=float32, place=CUDAPlace(0), stop_gradient=False,\n",
      "       [[0.04067237]])\n",
      "model params after: Parameter containing:\n",
      "Tensor(shape=[1, 1], dtype=float32, place=CUDAPlace(0), stop_gradient=False,\n",
      "       [[0.04067237]])\n"
     ]
    }
   ],
   "source": [
    "import paddle\n",
    "paddle.disable_static()\n",
    "\n",
    "# create a simple model\n",
    "model = paddle.nn.Linear(1, 1)\n",
    "\n",
    "# create a simple dataset\n",
    "X_simple = paddle.to_tensor([[1.]])\n",
    "y_simple = paddle.to_tensor([[2.]])\n",
    "\n",
    "# create our optimizer\n",
    "optim = paddle.optimizer.SGD(learning_rate=1e-2, parameters=model.parameters())\n",
    "mse_loss_fn = paddle.nn.loss.MSELoss()\n",
    "\n",
    "y_hat = model(X_simple)\n",
    "print('model params before:', model.weight)\n",
    "loss = mse_loss_fn(y_hat, y_simple)\n",
    "loss.backward()\n",
    "optim.clear_grad()\n",
    "optim.step()\n",
    "print('model params after:', model.weight)"
   ]
  },
  {
   "cell_type": "markdown",
   "metadata": {
    "collapsed": false
   },
   "source": [
    "正如我们所看到的这样，参数值是朝着正确的方向在更新的。"
   ]
  },
  {
   "cell_type": "markdown",
   "metadata": {
    "collapsed": false
   },
   "source": [
    "## 用GD自动计算导数的线性回归和Paddle中的Modules\n",
    "\n",
    "\n",
    "接下里我们结合之前所学用Paddle的方式来解决线性回归问题。"
   ]
  },
  {
   "cell_type": "code",
   "execution_count": 15,
   "metadata": {
    "collapsed": false
   },
   "outputs": [
    {
     "name": "stdout",
     "output_type": "stream",
     "text": [
      "iter,\tloss,\tw\n",
      "0,\t[6.8440084],\t[[0.8750538 1.0889448]]\n",
      "1,\t[4.324582],\t[[0.49516663 1.2639549 ]]\n",
      "2,\t[2.742772],\t[[0.19371322 1.404366  ]]\n",
      "3,\t[1.7465012],\t[[-0.04562304  1.5172662 ]]\n",
      "4,\t[1.1169634],\t[[-0.23574035  1.6082447 ]]\n",
      "5,\t[0.7178161],\t[[-0.38683942  1.6817173 ]]\n",
      "6,\t[0.46386436],\t[[-0.5069913  1.7411795]]\n",
      "7,\t[0.30171737],\t[[-0.6025853  1.7894039]]\n",
      "8,\t[0.19781339],\t[[-0.67868155  1.8285946 ]]\n",
      "9,\t[0.1309885],\t[[-0.7392896  1.860507 ]]\n",
      "10,\t[0.08785284],\t[[-0.7875881  1.8865429]]\n",
      "11,\t[0.05990634],\t[[-0.82609826  1.9078237 ]]\n",
      "12,\t[0.04173437],\t[[-0.85682076  1.9252486 ]]\n",
      "13,\t[0.02987545],\t[[-0.881344   1.9395404]]\n",
      "14,\t[0.02210891],\t[[-0.9009299  1.9512811]]\n",
      "15,\t[0.01700479],\t[[-0.91658133  1.9609407 ]]\n",
      "16,\t[0.01363901],\t[[-0.9290957  1.9688995]]\n",
      "17,\t[0.01141226],\t[[-0.9391074  1.9754655]]\n",
      "18,\t[0.00993441],\t[[-0.9471216  1.9808893]]\n",
      "19,\t[0.00895062],\t[[-0.9535405  1.9853748]]\n",
      "\n",
      "true w\t\t [[-1.  2.]]\n",
      "estimated w\t [[-0.9535405  1.9853748]]\n"
     ]
    }
   ],
   "source": [
    "import paddle\n",
    "paddle.disable_static()\n",
    "\n",
    "step_size = 0.1\n",
    "\n",
    "linear_module = paddle.nn.Linear(d, 1)\n",
    "\n",
    "loss_func = paddle.nn.loss.MSELoss()\n",
    "\n",
    "optim = paddle.optimizer.SGD(learning_rate=step_size, parameters=linear_module.parameters())\n",
    "\n",
    "print('iter,\\tloss,\\tw')\n",
    "\n",
    "for i in range(20):\n",
    "    y_hat = linear_module(X)\n",
    "    loss = loss_func(y_hat, y)\n",
    "    loss.backward()\n",
    "    optim.minimize(loss)\n",
    "    linear_module.clear_gradients()\n",
    "    optim.step()\n",
    "    print('{},\\t{},\\t{}'.format(i, loss.numpy(), linear_module.weight.reshape((1,2)).numpy()))\n",
    "\n",
    "\n",
    "print('\\ntrue w\\t\\t', true_w.reshape((1, 2)).numpy())\n",
    "print('estimated w\\t', linear_module.weight.reshape((1, 2)).numpy())"
   ]
  },
  {
   "cell_type": "markdown",
   "metadata": {
    "collapsed": false
   },
   "source": [
    "# Paddle中的神经网络基础\n",
    "\n",
    "我们使用一个简单的神经网络来拟合数据。"
   ]
  },
  {
   "cell_type": "code",
   "execution_count": 16,
   "metadata": {
    "collapsed": false
   },
   "outputs": [
    {
     "name": "stderr",
     "output_type": "stream",
     "text": [
      "/opt/conda/envs/python35-paddle120-env/lib/python3.7/site-packages/matplotlib/__init__.py:107: DeprecationWarning: Using or importing the ABCs from 'collections' instead of from 'collections.abc' is deprecated, and in 3.8 it will stop working\n",
      "  from collections import MutableMapping\n",
      "/opt/conda/envs/python35-paddle120-env/lib/python3.7/site-packages/matplotlib/rcsetup.py:20: DeprecationWarning: Using or importing the ABCs from 'collections' instead of from 'collections.abc' is deprecated, and in 3.8 it will stop working\n",
      "  from collections import Iterable, Mapping\n",
      "/opt/conda/envs/python35-paddle120-env/lib/python3.7/site-packages/matplotlib/colors.py:53: DeprecationWarning: Using or importing the ABCs from 'collections' instead of from 'collections.abc' is deprecated, and in 3.8 it will stop working\n",
      "  from collections import Sized\n",
      "2021-08-11 18:22:10,083 - INFO - font search path ['/opt/conda/envs/python35-paddle120-env/lib/python3.7/site-packages/matplotlib/mpl-data/fonts/ttf', '/opt/conda/envs/python35-paddle120-env/lib/python3.7/site-packages/matplotlib/mpl-data/fonts/afm', '/opt/conda/envs/python35-paddle120-env/lib/python3.7/site-packages/matplotlib/mpl-data/fonts/pdfcorefonts']\n",
      "2021-08-11 18:22:10,605 - INFO - generated new fontManager\n",
      "/opt/conda/envs/python35-paddle120-env/lib/python3.7/site-packages/matplotlib/cbook/__init__.py:2349: DeprecationWarning: Using or importing the ABCs from 'collections' instead of from 'collections.abc' is deprecated, and in 3.8 it will stop working\n",
      "  if isinstance(obj, collections.Iterator):\n",
      "/opt/conda/envs/python35-paddle120-env/lib/python3.7/site-packages/matplotlib/cbook/__init__.py:2366: DeprecationWarning: Using or importing the ABCs from 'collections' instead of from 'collections.abc' is deprecated, and in 3.8 it will stop working\n",
      "  return list(data) if isinstance(data, collections.MappingView) else data\n"
     ]
    },
    {
     "data": {
      "image/png": "[encoded data removed]",
      "text/plain": [
       "<Figure size 432x288 with 1 Axes>"
      ]
     },
     "metadata": {},
     "output_type": "display_data"
    }
   ],
   "source": [
    "%matplotlib inline\n",
    "import matplotlib.pyplot as plt\n",
    "import numpy as np\n",
    "\n",
    "d = 1\n",
    "n = 200\n",
    "X = paddle.rand(shape=[n,d])\n",
    "y = 4 * paddle.sin(np.pi * X) * paddle.cos(6*np.pi*X**2)\n",
    "\n",
    "plt.scatter(X.numpy(), y.numpy())\n",
    "plt.title('plot of $f(x)$')\n",
    "plt.xlabel('$x$')\n",
    "plt.ylabel('$y$')\n",
    "\n",
    "plt.show()"
   ]
  },
  {
   "cell_type": "markdown",
   "metadata": {
    "collapsed": false
   },
   "source": [
    "我们使用了一个简单的含有两个隐藏层和Tanh激活函数的神经网络。我们可以通过调节这个神经网络的一些超参数来说明超参数是如何改变模型结果的。"
   ]
  },
  {
   "cell_type": "code",
   "execution_count": 17,
   "metadata": {
    "collapsed": false
   },
   "outputs": [
    {
     "name": "stdout",
     "output_type": "stream",
     "text": [
      "iter,\tloss\n",
      "0,\t[4.2171335]\n",
      "600,\t[3.993063]\n",
      "1200,\t[3.6951501]\n",
      "1800,\t[1.7973866]\n",
      "2400,\t[0.89272165]\n",
      "3000,\t[0.32496896]\n",
      "3600,\t[0.21181478]\n",
      "4200,\t[0.15434483]\n",
      "4800,\t[0.10803313]\n",
      "5400,\t[0.08734553]\n"
     ]
    }
   ],
   "source": [
    "import paddle\n",
    "paddle.disable_static()\n",
    "\n",
    "# feel free to play with these parameters\n",
    "\n",
    "step_size = 0.05\n",
    "n_epochs = 6000\n",
    "n_hidden_1 = 32\n",
    "n_hidden_2 = 32\n",
    "d_out = 1\n",
    "\n",
    "neural_network = paddle.nn.Sequential(\n",
    "                            paddle.nn.Linear(d, n_hidden_1), \n",
    "                            paddle.nn.Tanh(),\n",
    "                            paddle.nn.Linear(n_hidden_1, n_hidden_2),\n",
    "                            paddle.nn.Tanh(),\n",
    "                            paddle.nn.Linear(n_hidden_2, d_out)\n",
    "                            )\n",
    "\n",
    "loss_func =  paddle.nn.loss.MSELoss()\n",
    "\n",
    "optim = paddle.optimizer.SGD(learning_rate=step_size, parameters=neural_network.parameters())\n",
    "print('iter,\\tloss')\n",
    "for i in range(n_epochs):\n",
    "    y_hat = neural_network(X)\n",
    "    loss = loss_func(y_hat, y)\n",
    "    loss.backward()\n",
    "    optim.minimize(loss)\n",
    "    neural_network.clear_gradients()\n",
    "    optim.step()\n",
    "    \n",
    "    if i % (n_epochs // 10) == 0:\n",
    "        print('{},\\t{}'.format(i, loss.numpy()))\n"
   ]
  },
  {
   "cell_type": "code",
   "execution_count": 18,
   "metadata": {
    "collapsed": false
   },
   "outputs": [
    {
     "name": "stderr",
     "output_type": "stream",
     "text": [
      "<>:5: DeprecationWarning: invalid escape sequence \\h\n",
      "<>:5: DeprecationWarning: invalid escape sequence \\h\n",
      "<>:5: DeprecationWarning: invalid escape sequence \\h\n",
      "<ipython-input-18-e3b14b1061d7>:5: DeprecationWarning: invalid escape sequence \\h\n",
      "  plt.title('plot of $f(x)$ and $\\hat{f}(x)$')\n",
      "/opt/conda/envs/python35-paddle120-env/lib/python3.7/site-packages/paddle/fluid/data_feeder.py:56: DeprecationWarning: `np.bool` is a deprecated alias for the builtin `bool`. To silence this warning, use `bool` by itself. Doing this will not modify any behavior and is safe. If you specifically wanted the numpy scalar type, use `np.bool_` here.\n",
      "Deprecated in NumPy 1.20; for more details and guidance: https://numpy.org/devdocs/release/1.20.0-notes.html#deprecations\n",
      "  np.bool, np.float16, np.float32, np.float64, np.int8, np.int16,\n"
     ]
    },
    {
     "data": {
      "image/png": "[encoded data removed]",
      "text/plain": [
       "<Figure size 432x288 with 1 Axes>"
      ]
     },
     "metadata": {},
     "output_type": "display_data"
    }
   ],
   "source": [
    "X_grid = paddle.to_tensor(np.linspace(0,1,50), dtype=np.float32).reshape((-1, d))\n",
    "y_hat = neural_network(X_grid)\n",
    "plt.scatter(X.numpy(), y.numpy())\n",
    "plt.plot(X_grid.detach().numpy(), y_hat.detach().numpy(), 'r')\n",
    "plt.title('plot of $f(x)$ and $\\hat{f}(x)$')\n",
    "plt.xlabel('$x$')\n",
    "plt.ylabel('$y$')\n",
    "plt.show()"
   ]
  },
  {
   "cell_type": "markdown",
   "metadata": {
    "collapsed": false
   },
   "source": [
    "# 作业帮助\n",
    "\n",
    "## Momentum\n",
    "\n",
    "除了随机梯度下降还有其他的一些优化算法：比如修改自SGD的momentum。这里我们不在详述，需要了解更多的可以[点击此处](https://distill.pub/2017/momentum/)学习。\n",
    "\n",
    "在下面给出的代码中我们只修改了训练步数并且在优化函数中增加了momentum参数。注意观察momentum参数是如何在较少的迭代次数中减少训练损失的。"
   ]
  },
  {
   "cell_type": "code",
   "execution_count": 19,
   "metadata": {
    "collapsed": false
   },
   "outputs": [
    {
     "name": "stdout",
     "output_type": "stream",
     "text": [
      "iter,\tloss\n",
      "0,\t[4.205099]\n",
      "150,\t[3.9756398]\n",
      "300,\t[1.7070374]\n",
      "450,\t[0.2196153]\n",
      "600,\t[0.11150152]\n",
      "750,\t[0.05638471]\n",
      "900,\t[0.04004388]\n",
      "1050,\t[0.05887992]\n",
      "1200,\t[0.01328311]\n",
      "1350,\t[0.01289878]\n"
     ]
    }
   ],
   "source": [
    "# feel free to play with these parameters\n",
    "\n",
    "step_size = 0.05\n",
    "momentum = 0.9\n",
    "n_epochs = 1500\n",
    "n_hidden_1 = 32\n",
    "n_hidden_2 = 32\n",
    "d_out = 1\n",
    "\n",
    "neural_network = paddle.nn.Sequential(\n",
    "                            paddle.nn.Linear(d, n_hidden_1), \n",
    "                            paddle.nn.Tanh(),\n",
    "                            paddle.nn.Linear(n_hidden_1, n_hidden_2),\n",
    "                            paddle.nn.Tanh(),\n",
    "                            paddle.nn.Linear(n_hidden_2, d_out)\n",
    "                            )\n",
    "\n",
    "loss_func = paddle.nn.MSELoss()\n",
    "\n",
    "optim = paddle.optimizer.Momentum(learning_rate=step_size, parameters=neural_network.parameters(), momentum=momentum)\n",
    "print('iter,\\tloss')\n",
    "for i in range(n_epochs):\n",
    "    y_hat = neural_network(X)\n",
    "    loss = loss_func(y_hat, y)\n",
    "    optim.clear_grad()\n",
    "    loss.backward()\n",
    "    optim.step()\n",
    "    \n",
    "    if i % (n_epochs // 10) == 0:\n",
    "        print('{},\\t{}'.format(i, loss.numpy()))\n"
   ]
  },
  {
   "cell_type": "code",
   "execution_count": 20,
   "metadata": {
    "collapsed": false
   },
   "outputs": [
    {
     "name": "stderr",
     "output_type": "stream",
     "text": [
      "<>:5: DeprecationWarning: invalid escape sequence \\h\n",
      "<>:5: DeprecationWarning: invalid escape sequence \\h\n",
      "<>:5: DeprecationWarning: invalid escape sequence \\h\n",
      "<ipython-input-20-e3b14b1061d7>:5: DeprecationWarning: invalid escape sequence \\h\n",
      "  plt.title('plot of $f(x)$ and $\\hat{f}(x)$')\n"
     ]
    },
    {
     "data": {
      "image/png": "[encoded data removed]",
      "text/plain": [
       "<Figure size 432x288 with 1 Axes>"
      ]
     },
     "metadata": {},
     "output_type": "display_data"
    }
   ],
   "source": [
    "X_grid = paddle.to_tensor(np.linspace(0,1,50), dtype=np.float32).reshape((-1, d))\n",
    "y_hat = neural_network(X_grid)\n",
    "plt.scatter(X.numpy(), y.numpy())\n",
    "plt.plot(X_grid.detach().numpy(), y_hat.detach().numpy(), 'r')\n",
    "plt.title('plot of $f(x)$ and $\\hat{f}(x)$')\n",
    "plt.xlabel('$x$')\n",
    "plt.ylabel('$y$')\n",
    "plt.show()"
   ]
  },
  {
   "cell_type": "markdown",
   "metadata": {
    "collapsed": false
   },
   "source": [
    "## 交叉熵损失\n",
    "\n",
    "到目前为止，我们在回归任务中使用了[MSELoss](https://www.paddlepaddle.org.cn/documentation/docs/zh/2.0-rc/api/paddle/nn/layer/loss/MSELoss_cn.html#mseloss)模块。在作业中，我们需要训练一个使用交叉熵损失的分类任务。\n",
    "\n",
    "\n",
    "Paddle在[CrossEntropyLoss](https://www.paddlepaddle.org.cn/documentation/docs/zh/2.0-beta/api/paddle/nn/layer/loss/CrossEntropyLoss_cn.html#crossentropyloss)模块中实现了一个交叉熵损失版本，它的使用方法相比MSE稍有不同，因此我们在这里给出了它的一些使用注释。\n",
    "\n",
    "- input (Tensor): - 输入 Tensor ，数据类型为float32或float64。其形状为 [N,C] , 其中 C 为类别数。对于多维度的情形下，它的形状为 [N,C,d1,d2,...,dk] ，k >= 1。\n",
    "\n",
    "- label (Tensor): - 输入input对应的标签值，数据类型为int64。其形状为 [N] ，每个元素符合条件：0 <= label[i] <= C-1。对于多维度的情形下，它的形状为 [N,d1,d2,...,dk] ，k >= 1。\n",
    "\n",
    "- output (Tensor): - 计算 CrossEntropyLoss 交叉熵后的损失值。\n",
    "\n",
    "在三个预测结果中试着输出损失函数的值。真实的标签值为$y=[1,1,0]$。和前两个例子相对应的预测值是正确的，因为它们在正确的便签所对应的列上有更高的分数值。其中第二个例子中的预测结果具有更高的置信度和更小的损失值。最后的两个例子是分别具有更低和更高置信度的不正确的预测。"
   ]
  },
  {
   "cell_type": "markdown",
   "metadata": {
    "collapsed": false
   },
   "source": [
    "## 学习率调度器\n",
    "\n",
    "\n",
    "在训练过程中我们通常并不想使用混合学习率。Paddle提供了学习率调度器来随着训练时间的推移改变学习率。比较常用的策略是每训练一个epoch在学习率上乘以一个常数（比如0.9）或者当训练损失趋于平缓时，学习率减半。\n",
    "\n",
    "想要获取更多的使用示例请参考 [学习旅调度器](https://www.paddlepaddle.org.cn/documentation/docs/zh/2.0-rc/api/paddle/optimizer/MultiStepLR_cn.html) 文档。"
   ]
  },
  {
   "cell_type": "markdown",
   "metadata": {
    "collapsed": false
   },
   "source": [
    "## 卷积操作\n",
    "在处理图片时，我们经常需要使用卷积操作来提取特征。Paddle在`paddle.nn.Conv2D`模块中实现了这些卷积操作。该模块要求需要参数必须具有指定的维度(输入通道数目, 输出通道数目, 滤波器尺寸)。其中输入通道数目为图片的通道数目，输出通道数目为滤波器的个数，滤波器尺寸为滤波器的大小。\n",
    "\n",
    "We can modify the convolution to have different properties with the parameters:\n",
    "我们可以通过修改卷积操作的参数让卷积操作拥有不同的属性：\n",
    "- 步长\n",
    "- 填充\n",
    "- 空洞大小\n",
    "\n",
    "这些参数的修改会改变输出特征图的维度，因此使用的需要注意。\n",
    "\n",
    "想了解更多信息，请参考[`paddle.nn.Conv2D` 文档](https://www.paddlepaddle.org.cn/documentation/docs/zh/2.0-rc/api/paddle/fluid/dygraph/Conv2D_cn.html#conv2d)"
   ]
  }
 ],
 "metadata": {
  "kernelspec": {
   "display_name": "PaddlePaddle 2.0.0b0 (Python 3.5)",
   "language": "python",
   "name": "py35-paddle1.2.0"
  },
  "language_info": {
   "codemirror_mode": {
    "name": "ipython",
    "version": 3
   },
   "file_extension": ".py",
   "mimetype": "text/x-python",
   "name": "python",
   "nbconvert_exporter": "python",
   "pygments_lexer": "ipython3",
   "version": "3.7.4"
  }
 },
 "nbformat": 4,
 "nbformat_minor": 1
}
