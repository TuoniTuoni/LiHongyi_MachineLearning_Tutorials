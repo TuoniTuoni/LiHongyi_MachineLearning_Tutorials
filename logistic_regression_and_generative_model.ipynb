{
 "cells": [
  {
   "cell_type": "markdown",
   "metadata": {
    "collapsed": false
   },
   "source": [
    "# 作业2-年收入判断\n",
    "\n",
    "## 项目描述\n",
    "二元分类是机器学习中最基础的问题之一，在这份教学中，你将学会如何实作一个线性二元分类器，来根据人们的个人资料，判断其年收入是否高于 50,000 美元。我们将以两种方法: logistic regression 与 generative model，来达成以上目的，你可以尝试了解、分析两者的设计理念及差别。\n",
    "实现二分类任务：\n",
    "* 个人收入是否超过50000元？\n",
    "\n",
    "## 数据集介绍\n",
    "这个资料集是由UCI Machine Learning Repository 的Census-Income (KDD) Data Set 经过一些处理而得来。为了方便训练，我们移除了一些不必要的资讯，并且稍微平衡了正负两种标记的比例。事实上在训练过程中，只有 X_train、Y_train 和 X_test 这三个经过处理的档案会被使用到，train.csv 和 test.csv 这两个原始资料档则可以提供你一些额外的资讯。\n",
    "* 已经去除不必要的属性。\n",
    "* 已经平衡正标和负标数据之间的比例。\n",
    "\n",
    "**特征格式**\n",
    "1. train.csv，test_no_label.csv。\n",
    "* 基于文本的原始数据\n",
    "* 去掉不必要的属性，平衡正负比例。\n",
    "2. X_train, Y_train, X_test(测试)\n",
    "* train.csv中的离散特征=>在X_train中onehot编码(学历、状态...)\n",
    "* train.csv中的连续特征 => 在X_train中保持不变(年龄、资本损失...)。\n",
    "* X_train, X_test : 每一行包含一个510-dim的特征，代表一个样本。\n",
    "* Y_train: label = 0 表示 \"<=50K\" 、 label = 1 表示 \" >50K \" 。\n",
    "\n",
    "## 项目要求\n",
    "1. 请动手编写 gradient descent 实现 logistic regression\n",
    "1. 请动手实现概率生成模型。\n",
    "1. 单个代码块运行时长应低于五分钟。\n",
    "1. 禁止使用任何开源的代码(例如，你在GitHub上找到的决策树的实现)。\n",
    "\n",
    "## 数据准备\n",
    "项目数据保存在：work/data/ 目录下。\n",
    "\n",
    "## 环境配置/安装\n",
    "无"
   ]
  },
  {
   "cell_type": "markdown",
   "metadata": {
    "collapsed": false
   },
   "source": [
    "# Logistic回归\n",
    "\n",
    "首先我们会做 Logistic回归\n",
    "\n",
    "### 数据准备\n",
    "\n",
    "下载资料，并且对每个属性做正规化，处理过后再将其切分为训练集与发展集。"
   ]
  },
  {
   "cell_type": "code",
   "execution_count": 1,
   "metadata": {
    "collapsed": false
   },
   "outputs": [
    {
     "name": "stdout",
     "output_type": "stream",
     "text": [
      "Size of training set: 48830\n",
      "Size of development set: 5426\n",
      "Size of testing set: 27622\n",
      "Dimension of data: 510\n"
     ]
    }
   ],
   "source": [
    "import numpy as np\n",
    "\n",
    "np.random.seed(0)\n",
    "X_train_fpath = 'work/data/X_train'\n",
    "Y_train_fpath = 'work/data/Y_train'\n",
    "X_test_fpath = 'work/data/X_test'\n",
    "output_fpath = 'work/output_{}.csv'\n",
    "\n",
    "# Parse csv files to numpy array\n",
    "with open(X_train_fpath) as f:\n",
    "    next(f)\n",
    "    X_train = np.array([line.strip('\\n').split(',')[1:] for line in f], dtype = float)\n",
    "with open(Y_train_fpath) as f:\n",
    "    next(f)\n",
    "    Y_train = np.array([line.strip('\\n').split(',')[1] for line in f], dtype = float)\n",
    "with open(X_test_fpath) as f:\n",
    "    next(f)\n",
    "    X_test = np.array([line.strip('\\n').split(',')[1:] for line in f], dtype = float)\n",
    "\n",
    "def _normalize(X, train = True, specified_column = None, X_mean = None, X_std = None):\n",
    "    # This function normalizes specific columns of X.\n",
    "    # The mean and standard variance of training data will be reused when processing testing data.\n",
    "    #\n",
    "    # Arguments:\n",
    "    #     X: data to be processed\n",
    "    #     train: 'True' when processing training data, 'False' for testing data\n",
    "    #     specific_column: indexes of the columns that will be normalized. If 'None', all columns\n",
    "    #         will be normalized.\n",
    "    #     X_mean: mean value of training data, used when train = 'False'\n",
    "    #     X_std: standard deviation of training data, used when train = 'False'\n",
    "    # Outputs:\n",
    "    #     X: normalized data\n",
    "    #     X_mean: computed mean value of training data\n",
    "    #     X_std: computed standard deviation of training data\n",
    "\n",
    "    if specified_column == None:\n",
    "        specified_column = np.arange(X.shape[1])\n",
    "    if train:\n",
    "        X_mean = np.mean(X[:, specified_column] ,0).reshape(1, -1)\n",
    "        X_std  = np.std(X[:, specified_column], 0).reshape(1, -1)\n",
    "\n",
    "    X[:,specified_column] = (X[:, specified_column] - X_mean) / (X_std + 1e-8)\n",
    "     \n",
    "    return X, X_mean, X_std\n",
    "\n",
    "def _train_dev_split(X, Y, dev_ratio = 0.25):\n",
    "    # This function spilts data into training set and development set.\n",
    "    train_size = int(len(X) * (1 - dev_ratio))\n",
    "    return X[:train_size], Y[:train_size], X[train_size:], Y[train_size:]\n",
    "\n",
    "# Normalize training and testing data\n",
    "X_train, X_mean, X_std = _normalize(X_train, train = True)\n",
    "X_test, _, _= _normalize(X_test, train = False, specified_column = None, X_mean = X_mean, X_std = X_std)\n",
    "    \n",
    "# Split data into training set and development set\n",
    "dev_ratio = 0.1\n",
    "X_train, Y_train, X_dev, Y_dev = _train_dev_split(X_train, Y_train, dev_ratio = dev_ratio)\n",
    "\n",
    "train_size = X_train.shape[0]\n",
    "dev_size = X_dev.shape[0]\n",
    "test_size = X_test.shape[0]\n",
    "data_dim = X_train.shape[1]\n",
    "print('Size of training set: {}'.format(train_size))\n",
    "print('Size of development set: {}'.format(dev_size))\n",
    "print('Size of testing set: {}'.format(test_size))\n",
    "print('Dimension of data: {}'.format(data_dim))\n",
    "\n"
   ]
  },
  {
   "cell_type": "markdown",
   "metadata": {
    "collapsed": false
   },
   "source": [
    "\n",
    "### 一些有用的函数\n",
    "\n",
    "这几个函数可能会在训练回圈中被重复使用到。"
   ]
  },
  {
   "cell_type": "code",
   "execution_count": 3,
   "metadata": {
    "collapsed": false
   },
   "outputs": [],
   "source": [
    "def _shuffle(X, Y):\r\n",
    "    # This function shuffles two equal-length list/array, X and Y, together.\r\n",
    "    randomize = np.arange(len(X))\r\n",
    "    np.random.shuffle(randomize)\r\n",
    "    return (X[randomize], Y[randomize])\r\n",
    "\r\n",
    "def _sigmoid(z):\r\n",
    "    # Sigmoid function can be used to calculate probability.\r\n",
    "    # To avoid overflow, minimum/maximum output value is set.\r\n",
    "    return np.clip(1 / (1.0 + np.exp(-z)), 1e-8, 1 - (1e-8))\r\n",
    "\r\n",
    "def _f(X, w, b):\r\n",
    "    # This is the logistic regression function, parameterized by w and b\r\n",
    "    #\r\n",
    "    # Arguements:\r\n",
    "    #     X: input data, shape = [batch_size, data_dimension]\r\n",
    "    #     w: weight vector, shape = [data_dimension, ]\r\n",
    "    #     b: bias, scalar\r\n",
    "    # Output:\r\n",
    "    #     predicted probability of each row of X being positively labeled, shape = [batch_size, ]\r\n",
    "    return _sigmoid(np.matmul(X, w) + b)\r\n",
    "\r\n",
    "def _predict(X, w, b):\r\n",
    "    # This function returns a truth value prediction for each row of X \r\n",
    "    # by rounding the result of logistic regression function.\r\n",
    "    return np.round(_f(X, w, b)).astype(np.int)\r\n",
    "    \r\n",
    "def _accuracy(Y_pred, Y_label):\r\n",
    "    # This function calculates prediction accuracy\r\n",
    "    acc = 1 - np.mean(np.abs(Y_pred - Y_label))\r\n",
    "    return acc"
   ]
  },
  {
   "cell_type": "markdown",
   "metadata": {
    "collapsed": false
   },
   "source": [
    "### 梯度与损失"
   ]
  },
  {
   "cell_type": "code",
   "execution_count": 4,
   "metadata": {
    "collapsed": false
   },
   "outputs": [],
   "source": [
    "def _cross_entropy_loss(y_pred, Y_label):\r\n",
    "    # This function computes the cross entropy.\r\n",
    "    #\r\n",
    "    # Arguements:\r\n",
    "    #     y_pred: probabilistic predictions, float vector\r\n",
    "    #     Y_label: ground truth labels, bool vector\r\n",
    "    # Output:\r\n",
    "    #     cross entropy, scalar\r\n",
    "    cross_entropy = -np.dot(Y_label, np.log(y_pred)) - np.dot((1 - Y_label), np.log(1 - y_pred))\r\n",
    "    return cross_entropy\r\n",
    "\r\n",
    "def _gradient(X, Y_label, w, b):\r\n",
    "    # This function computes the gradient of cross entropy loss with respect to weight w and bias b.\r\n",
    "    y_pred = _f(X, w, b)\r\n",
    "    pred_error = Y_label - y_pred\r\n",
    "    w_grad = -np.sum(pred_error * X.T, 1)\r\n",
    "    b_grad = -np.sum(pred_error)\r\n",
    "    return w_grad, b_grad\r\n"
   ]
  },
  {
   "cell_type": "markdown",
   "metadata": {
    "collapsed": false
   },
   "source": [
    "### 模型训练\n",
    "\n",
    "一切准备就绪，开始训练吧! \n",
    "\n",
    "我们使用小批次梯度下降法来训练。训练资料被分为许多小批次，针对每一个小批次，我们分别计算其梯度以及损失，并根据该批次来更新模型的参数。当一次回圈完成，也就是整个训练集的所有小批次都被使用过一次以后，我们将所有训练资料打散并且重新分成新的小批次，进行下一个回圈，直到事先设定的回圈数量达成为止。"
   ]
  },
  {
   "cell_type": "code",
   "execution_count": 5,
   "metadata": {
    "collapsed": false
   },
   "outputs": [
    {
     "name": "stdout",
     "output_type": "stream",
     "text": [
      "Training loss: 0.2713554352464062\n",
      "Development loss: 0.2896359675026287\n",
      "Training accuracy: 0.8836166291214418\n",
      "Development accuracy: 0.8733873940287504\n"
     ]
    }
   ],
   "source": [
    "# Zero initialization for weights ans bias\r\n",
    "w = np.zeros((data_dim,)) \r\n",
    "b = np.zeros((1,))\r\n",
    "\r\n",
    "# Some parameters for training    \r\n",
    "max_iter = 10\r\n",
    "batch_size = 8\r\n",
    "learning_rate = 0.2\r\n",
    "\r\n",
    "# Keep the loss and accuracy at every iteration for plotting\r\n",
    "train_loss = []\r\n",
    "dev_loss = []\r\n",
    "train_acc = []\r\n",
    "dev_acc = []\r\n",
    "\r\n",
    "# Calcuate the number of parameter updates\r\n",
    "step = 1\r\n",
    "\r\n",
    "# Iterative training\r\n",
    "for epoch in range(max_iter):\r\n",
    "    # Random shuffle at the begging of each epoch\r\n",
    "    X_train, Y_train = _shuffle(X_train, Y_train)\r\n",
    "        \r\n",
    "    # Mini-batch training\r\n",
    "    for idx in range(int(np.floor(train_size / batch_size))):\r\n",
    "        X = X_train[idx*batch_size:(idx+1)*batch_size]\r\n",
    "        Y = Y_train[idx*batch_size:(idx+1)*batch_size]\r\n",
    "\r\n",
    "        # Compute the gradient\r\n",
    "        w_grad, b_grad = _gradient(X, Y, w, b)\r\n",
    "            \r\n",
    "        # gradient descent update\r\n",
    "        # learning rate decay with time\r\n",
    "        w = w - learning_rate/np.sqrt(step) * w_grad\r\n",
    "        b = b - learning_rate/np.sqrt(step) * b_grad\r\n",
    "\r\n",
    "        step = step + 1\r\n",
    "            \r\n",
    "    # Compute loss and accuracy of training set and development set\r\n",
    "    y_train_pred = _f(X_train, w, b)\r\n",
    "    Y_train_pred = np.round(y_train_pred)\r\n",
    "    train_acc.append(_accuracy(Y_train_pred, Y_train))\r\n",
    "    train_loss.append(_cross_entropy_loss(y_train_pred, Y_train) / train_size)\r\n",
    "\r\n",
    "    y_dev_pred = _f(X_dev, w, b)\r\n",
    "    Y_dev_pred = np.round(y_dev_pred)\r\n",
    "    dev_acc.append(_accuracy(Y_dev_pred, Y_dev))\r\n",
    "    dev_loss.append(_cross_entropy_loss(y_dev_pred, Y_dev) / dev_size)\r\n",
    "\r\n",
    "print('Training loss: {}'.format(train_loss[-1]))\r\n",
    "print('Development loss: {}'.format(dev_loss[-1]))\r\n",
    "print('Training accuracy: {}'.format(train_acc[-1]))\r\n",
    "print('Development accuracy: {}'.format(dev_acc[-1]))"
   ]
  },
  {
   "cell_type": "code",
   "execution_count": 7,
   "metadata": {
    "collapsed": false
   },
   "outputs": [
    {
     "data": {
      "image/png": "[encoded data removed]",
      "text/plain": [
       "<Figure size 432x288 with 1 Axes>"
      ]
     },
     "metadata": {},
     "output_type": "display_data"
    },
    {
     "data": {
      "image/png": "[encoded data removed]",
      "text/plain": [
       "<Figure size 432x288 with 1 Axes>"
      ]
     },
     "metadata": {},
     "output_type": "display_data"
    }
   ],
   "source": [
    "import matplotlib.pyplot as plt\r\n",
    "\r\n",
    "# Loss curve\r\n",
    "plt.plot(train_loss)\r\n",
    "plt.plot(dev_loss)\r\n",
    "plt.title('Loss')\r\n",
    "plt.legend(['train', 'dev'])\r\n",
    "plt.savefig('loss.png')\r\n",
    "plt.show()\r\n",
    "\r\n",
    "# Accuracy curve\r\n",
    "plt.plot(train_acc)\r\n",
    "plt.plot(dev_acc)\r\n",
    "plt.title('Accuracy')\r\n",
    "plt.legend(['train', 'dev'])\r\n",
    "plt.savefig('acc.png')\r\n",
    "plt.show()"
   ]
  },
  {
   "cell_type": "markdown",
   "metadata": {
    "collapsed": false
   },
   "source": [
    "### 预测测试标签\n",
    "\n",
    "预测测试集的资料标签并且存在 *output_logistic.csv* 中。"
   ]
  },
  {
   "cell_type": "code",
   "execution_count": 8,
   "metadata": {
    "collapsed": false
   },
   "outputs": [
    {
     "name": "stdout",
     "output_type": "stream",
     "text": [
      " Not in universe -4.031960278019251\n",
      " Spouse of householder -1.625403958705141\n",
      " Other Rel <18 never married RP of subfamily -1.4195759775765404\n",
      " Child 18+ ever marr Not in a subfamily -1.2958572076664745\n",
      " Unemployed full-time 1.1712558285885912\n",
      " Other Rel <18 ever marr RP of subfamily -1.167791807296237\n",
      " Italy -1.093458143800618\n",
      " Vietnam -1.0630365633146415\n",
      "num persons worked for employer 0.938992277356651\n",
      " 1 0.8226614922117185\n"
     ]
    }
   ],
   "source": [
    "# Predict testing labels\r\n",
    "predictions = _predict(X_test, w, b)\r\n",
    "with open(output_fpath.format('logistic'), 'w') as f:\r\n",
    "    f.write('id,label\\n')\r\n",
    "    for i, label in  enumerate(predictions):\r\n",
    "        f.write('{},{}\\n'.format(i, label))\r\n",
    "\r\n",
    "# Print out the most significant weights\r\n",
    "ind = np.argsort(np.abs(w))[::-1]\r\n",
    "with open(X_test_fpath) as f:\r\n",
    "    content = f.readline().strip('\\n').split(',')\r\n",
    "features = np.array(content)\r\n",
    "for i in ind[0:10]:\r\n",
    "    print(features[i], w[i])"
   ]
  },
  {
   "cell_type": "markdown",
   "metadata": {
    "collapsed": false
   },
   "source": [
    "# 多变量生成模型\n",
    "\n",
    "接着我们将实作基于 generative model 的二元分类器。\n",
    "\n",
    "### 数据准备\n",
    "\n",
    "训练集与测试集的处理方法跟 logistic regression 一模一样，然而因为 generative model 有可解析的最佳解，因此不必使用到 development set。"
   ]
  },
  {
   "cell_type": "code",
   "execution_count": 9,
   "metadata": {
    "collapsed": false
   },
   "outputs": [],
   "source": [
    "# Parse csv files to numpy array\r\n",
    "with open(X_train_fpath) as f:\r\n",
    "    next(f)\r\n",
    "    X_train = np.array([line.strip('\\n').split(',')[1:] for line in f], dtype = float)\r\n",
    "with open(Y_train_fpath) as f:\r\n",
    "    next(f)\r\n",
    "    Y_train = np.array([line.strip('\\n').split(',')[1] for line in f], dtype = float)\r\n",
    "with open(X_test_fpath) as f:\r\n",
    "    next(f)\r\n",
    "    X_test = np.array([line.strip('\\n').split(',')[1:] for line in f], dtype = float)\r\n",
    "\r\n",
    "# Normalize training and testing data\r\n",
    "X_train, X_mean, X_std = _normalize(X_train, train = True)\r\n",
    "X_test, _, _= _normalize(X_test, train = False, specified_column = None, X_mean = X_mean, X_std = X_std)"
   ]
  },
  {
   "cell_type": "markdown",
   "metadata": {
    "collapsed": false
   },
   "source": [
    "### 平均值和协方差\n",
    "\n",
    "在 generative model 中，我们需要分别计算两个类别内的资料平均与共变异。"
   ]
  },
  {
   "cell_type": "code",
   "execution_count": 10,
   "metadata": {
    "collapsed": false
   },
   "outputs": [],
   "source": [
    "# Compute in-class mean\r\n",
    "X_train_0 = np.array([x for x, y in zip(X_train, Y_train) if y == 0])\r\n",
    "X_train_1 = np.array([x for x, y in zip(X_train, Y_train) if y == 1])\r\n",
    "\r\n",
    "mean_0 = np.mean(X_train_0, axis = 0)\r\n",
    "mean_1 = np.mean(X_train_1, axis = 0)  \r\n",
    "\r\n",
    "# Compute in-class covariance\r\n",
    "cov_0 = np.zeros((data_dim, data_dim))\r\n",
    "cov_1 = np.zeros((data_dim, data_dim))\r\n",
    "\r\n",
    "for x in X_train_0:\r\n",
    "    cov_0 += np.dot(np.transpose([x - mean_0]), [x - mean_0]) / X_train_0.shape[0]\r\n",
    "for x in X_train_1:\r\n",
    "    cov_1 += np.dot(np.transpose([x - mean_1]), [x - mean_1]) / X_train_1.shape[0]\r\n",
    "\r\n",
    "# Shared covariance is taken as a weighted average of individual in-class covariance.\r\n",
    "cov = (cov_0 * X_train_0.shape[0] + cov_1 * X_train_1.shape[0]) / (X_train_0.shape[0] + X_train_1.shape[0])"
   ]
  },
  {
   "cell_type": "markdown",
   "metadata": {
    "collapsed": false
   },
   "source": [
    "### 计算权重和偏差\n",
    "\n",
    "权重矩阵与偏差向量可以直接被计算出来。"
   ]
  },
  {
   "cell_type": "code",
   "execution_count": 11,
   "metadata": {
    "collapsed": false
   },
   "outputs": [
    {
     "name": "stdout",
     "output_type": "stream",
     "text": [
      "Training accuracy: 0.8737466823945739\n"
     ]
    }
   ],
   "source": [
    "# Compute inverse of covariance matrix.\r\n",
    "# Since covariance matrix may be nearly singular, np.linalg.inv() may give a large numerical error.\r\n",
    "# Via SVD decomposition, one can get matrix inverse efficiently and accurately.\r\n",
    "u, s, v = np.linalg.svd(cov, full_matrices=False)\r\n",
    "inv = np.matmul(v.T * 1 / s, u.T)\r\n",
    "\r\n",
    "# Directly compute weights and bias\r\n",
    "w = np.dot(inv, mean_0 - mean_1)\r\n",
    "b =  (-0.5) * np.dot(mean_0, np.dot(inv, mean_0)) + 0.5 * np.dot(mean_1, np.dot(inv, mean_1))\\\r\n",
    "    + np.log(float(X_train_0.shape[0]) / X_train_1.shape[0]) \r\n",
    "\r\n",
    "# Compute accuracy on training set\r\n",
    "Y_train_pred = 1 - _predict(X_train, w, b)\r\n",
    "print('Training accuracy: {}'.format(_accuracy(Y_train_pred, Y_train)))"
   ]
  },
  {
   "cell_type": "markdown",
   "metadata": {
    "collapsed": false
   },
   "source": [
    "### 预测测试标签\n",
    "\n",
    "预测测试集的资料标签并且存在 *output_generative.csv* 中。"
   ]
  },
  {
   "cell_type": "code",
   "execution_count": 12,
   "metadata": {
    "collapsed": false
   },
   "outputs": [
    {
     "name": "stdout",
     "output_type": "stream",
     "text": [
      " Retail trade 8.53369140625\n",
      " 34 -6.42578125\n",
      " 3 -6.400390625\n",
      " Abroad 6.171875\n",
      " 37 -5.86962890625\n",
      " Other service -5.5433349609375\n",
      " Medical except hospital 5.0693359375\n",
      " Child <18 ever marr not in subfamily -5.01025390625\n",
      " 94 -4.9765625\n",
      " 32 -4.8916015625\n"
     ]
    }
   ],
   "source": [
    "# Predict testing labels\r\n",
    "predictions = 1 - _predict(X_test, w, b)\r\n",
    "with open(output_fpath.format('generative'), 'w') as f:\r\n",
    "    f.write('id,label\\n')\r\n",
    "    for i, label in  enumerate(predictions):\r\n",
    "        f.write('{},{}\\n'.format(i, label))\r\n",
    "\r\n",
    "# Print out the most significant weights\r\n",
    "ind = np.argsort(np.abs(w))[::-1]\r\n",
    "with open(X_test_fpath) as f:\r\n",
    "    content = f.readline().strip('\\n').split(',')\r\n",
    "features = np.array(content)\r\n",
    "for i in ind[0:10]:\r\n",
    "    print(features[i], w[i])"
   ]
  }
 ],
 "metadata": {
  "kernelspec": {
   "display_name": "PaddlePaddle 2.0.0b0 (Python 3.5)",
   "language": "python",
   "name": "py35-paddle1.2.0"
  },
  "language_info": {
   "codemirror_mode": {
    "name": "ipython",
    "version": 3
   },
   "file_extension": ".py",
   "mimetype": "text/x-python",
   "name": "python",
   "nbconvert_exporter": "python",
   "pygments_lexer": "ipython3",
   "version": "3.7.4"
  }
 },
 "nbformat": 4,
 "nbformat_minor": 1
}
